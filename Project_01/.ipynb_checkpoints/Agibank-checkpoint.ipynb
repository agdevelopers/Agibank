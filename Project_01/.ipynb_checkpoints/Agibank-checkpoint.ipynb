{
 "cells": [
  {
   "cell_type": "markdown",
   "metadata": {
    "id": "aBJp2Sb02nnY"
   },
   "source": [
    "Teste Agibank"
   ]
  },
  {
   "cell_type": "code",
   "execution_count": 171,
   "metadata": {
    "id": "Nk5ynLPq4Cjw"
   },
   "outputs": [],
   "source": [
    "#Imports\n",
    "import pandas as pd"
   ]
  },
  {
   "cell_type": "code",
   "execution_count": 172,
   "metadata": {
    "colab": {
     "base_uri": "https://localhost:8080/",
     "height": 359
    },
    "id": "TfUsgpHT2mze",
    "outputId": "dd8e03c4-074d-4f6e-c7fc-f30a6fb50562"
   },
   "outputs": [
    {
     "data": {
      "text/html": [
       "<div>\n",
       "<style scoped>\n",
       "    .dataframe tbody tr th:only-of-type {\n",
       "        vertical-align: middle;\n",
       "    }\n",
       "\n",
       "    .dataframe tbody tr th {\n",
       "        vertical-align: top;\n",
       "    }\n",
       "\n",
       "    .dataframe thead th {\n",
       "        text-align: right;\n",
       "    }\n",
       "</style>\n",
       "<table border=\"1\" class=\"dataframe\">\n",
       "  <thead>\n",
       "    <tr style=\"text-align: right;\">\n",
       "      <th></th>\n",
       "      <th>covariavel</th>\n",
       "      <th>Contratou</th>\n",
       "    </tr>\n",
       "  </thead>\n",
       "  <tbody>\n",
       "    <tr>\n",
       "      <th>0</th>\n",
       "      <td>Grupo A</td>\n",
       "      <td>S</td>\n",
       "    </tr>\n",
       "    <tr>\n",
       "      <th>1</th>\n",
       "      <td>Grupo A</td>\n",
       "      <td>S</td>\n",
       "    </tr>\n",
       "    <tr>\n",
       "      <th>2</th>\n",
       "      <td>Grupo A</td>\n",
       "      <td>S</td>\n",
       "    </tr>\n",
       "    <tr>\n",
       "      <th>3</th>\n",
       "      <td>Grupo A</td>\n",
       "      <td>N</td>\n",
       "    </tr>\n",
       "    <tr>\n",
       "      <th>4</th>\n",
       "      <td>Grupo A</td>\n",
       "      <td>N</td>\n",
       "    </tr>\n",
       "    <tr>\n",
       "      <th>5</th>\n",
       "      <td>Grupo A</td>\n",
       "      <td>S</td>\n",
       "    </tr>\n",
       "    <tr>\n",
       "      <th>6</th>\n",
       "      <td>Grupo B</td>\n",
       "      <td>N</td>\n",
       "    </tr>\n",
       "    <tr>\n",
       "      <th>7</th>\n",
       "      <td>Grupo B</td>\n",
       "      <td>S</td>\n",
       "    </tr>\n",
       "    <tr>\n",
       "      <th>8</th>\n",
       "      <td>Grupo B</td>\n",
       "      <td>S</td>\n",
       "    </tr>\n",
       "    <tr>\n",
       "      <th>9</th>\n",
       "      <td>Grupo B</td>\n",
       "      <td>N</td>\n",
       "    </tr>\n",
       "  </tbody>\n",
       "</table>\n",
       "</div>"
      ],
      "text/plain": [
       "  covariavel Contratou\n",
       "0    Grupo A         S\n",
       "1    Grupo A         S\n",
       "2    Grupo A         S\n",
       "3    Grupo A         N\n",
       "4    Grupo A         N\n",
       "5    Grupo A         S\n",
       "6    Grupo B         N\n",
       "7    Grupo B         S\n",
       "8    Grupo B         S\n",
       "9    Grupo B         N"
      ]
     },
     "execution_count": 172,
     "metadata": {
      "tags": []
     },
     "output_type": "execute_result"
    }
   ],
   "source": [
    "#DataFrame\n",
    "df = {'covariavel': ['Grupo A', 'Grupo A', 'Grupo A', 'Grupo A', 'Grupo A', 'Grupo A', 'Grupo B', 'Grupo B', 'Grupo B', 'Grupo B'],\n",
    "         'Contratou': ['S', 'S', 'S', 'N', 'N', 'S', 'N', 'S', 'S','N']}\n",
    "dados=pd.DataFrame(df)\n",
    "dados"
   ]
  },
  {
   "cell_type": "code",
   "execution_count": 173,
   "metadata": {
    "id": "bQq2295V4MoK"
   },
   "outputs": [],
   "source": [
    "#Function - esta funcão se adecua a qualquer tamanho de dataframe, assim como qualquer quantidade de covariáveis;\n",
    "def minha_funcao (a,b):\n",
    "  s= a.loc[(a['Contratou'] == 'S')]\n",
    "  n= a.loc[(a['Contratou'] == 'N')]\n",
    "\n",
    "  total = pd.DataFrame(a.covariavel.value_counts())\n",
    "  total = total.reset_index()\n",
    "  total = total.rename(columns={'index': 'covariavel', 'covariavel': 'total'})\n",
    "\n",
    "  if b == 's':\n",
    "    sim = pd.DataFrame(s.value_counts())\n",
    "    sim = sim.reset_index()\n",
    "    sim = sim.rename(columns={0:'n'})\n",
    "    sim = sim.drop(['Contratou'], axis=1)\n",
    "    sim = pd.merge(sim, total, on='covariavel')\n",
    "    sim.insert(loc=2, column= 'taxa_resposta', value= (sim.n / sim.total).round(decimals=2))\n",
    "    sim = sim.drop(['total'], axis=1)\n",
    "    return sim\n",
    "\n",
    "  else:\n",
    "    nao = pd.DataFrame(n.value_counts())\n",
    "    nao = nao.reset_index()\n",
    "    nao = nao.rename(columns={0:'n'})\n",
    "    nao = nao.drop(['Contratou'], axis=1)\n",
    "    nao = pd.merge(nao, total, on='covariavel')\n",
    "    nao.insert(loc=2, column= 'taxa_resposta', value= (nao.n / nao.total).round(decimals=2))\n",
    "    nao = nao.drop(['total'], axis=1)\n",
    "    return nao"
   ]
  },
  {
   "cell_type": "code",
   "execution_count": 174,
   "metadata": {
    "colab": {
     "base_uri": "https://localhost:8080/",
     "height": 111
    },
    "id": "ljBzSBsJaDZc",
    "outputId": "efa1058a-d8a9-4397-9353-0ca83b8f988a"
   },
   "outputs": [
    {
     "data": {
      "text/html": [
       "<div>\n",
       "<style scoped>\n",
       "    .dataframe tbody tr th:only-of-type {\n",
       "        vertical-align: middle;\n",
       "    }\n",
       "\n",
       "    .dataframe tbody tr th {\n",
       "        vertical-align: top;\n",
       "    }\n",
       "\n",
       "    .dataframe thead th {\n",
       "        text-align: right;\n",
       "    }\n",
       "</style>\n",
       "<table border=\"1\" class=\"dataframe\">\n",
       "  <thead>\n",
       "    <tr style=\"text-align: right;\">\n",
       "      <th></th>\n",
       "      <th>covariavel</th>\n",
       "      <th>n</th>\n",
       "      <th>taxa_resposta</th>\n",
       "    </tr>\n",
       "  </thead>\n",
       "  <tbody>\n",
       "    <tr>\n",
       "      <th>0</th>\n",
       "      <td>Grupo B</td>\n",
       "      <td>2</td>\n",
       "      <td>0.50</td>\n",
       "    </tr>\n",
       "    <tr>\n",
       "      <th>1</th>\n",
       "      <td>Grupo A</td>\n",
       "      <td>2</td>\n",
       "      <td>0.33</td>\n",
       "    </tr>\n",
       "  </tbody>\n",
       "</table>\n",
       "</div>"
      ],
      "text/plain": [
       "  covariavel  n  taxa_resposta\n",
       "0    Grupo B  2           0.50\n",
       "1    Grupo A  2           0.33"
      ]
     },
     "execution_count": 174,
     "metadata": {
      "tags": []
     },
     "output_type": "execute_result"
    }
   ],
   "source": [
    "#Results\n",
    "#Parâmetros --> a=dataframe , b= \"s\" ou \"n\" referente ao status do contrato;\n",
    "minha_funcao(dados,\"n\")"
   ]
  }
 ],
 "metadata": {
  "colab": {
   "collapsed_sections": [],
   "name": "Agibank.ipynb",
   "provenance": []
  },
  "kernelspec": {
   "display_name": "Python 3",
   "language": "python",
   "name": "python3"
  },
  "language_info": {
   "codemirror_mode": {
    "name": "ipython",
    "version": 3
   },
   "file_extension": ".py",
   "mimetype": "text/x-python",
   "name": "python",
   "nbconvert_exporter": "python",
   "pygments_lexer": "ipython3",
   "version": "3.8.3"
  }
 },
 "nbformat": 4,
 "nbformat_minor": 1
}
