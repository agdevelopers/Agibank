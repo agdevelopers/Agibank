{
  "nbformat": 4,
  "nbformat_minor": 0,
  "metadata": {
    "colab": {
      "name": "Agibank.ipynb",
      "provenance": [],
      "collapsed_sections": []
    },
    "kernelspec": {
      "name": "python3",
      "display_name": "Python 3"
    }
  },
  "cells": [
    {
      "cell_type": "markdown",
      "metadata": {
        "id": "aBJp2Sb02nnY"
      },
      "source": [
        "Teste Agibank"
      ]
    },
    {
      "cell_type": "code",
      "metadata": {
        "id": "Nk5ynLPq4Cjw"
      },
      "source": [
        "#Imports\r\n",
        "import pandas as pd"
      ],
      "execution_count": 171,
      "outputs": []
    },
    {
      "cell_type": "code",
      "metadata": {
        "colab": {
          "base_uri": "https://localhost:8080/",
          "height": 359
        },
        "id": "TfUsgpHT2mze",
        "outputId": "dd8e03c4-074d-4f6e-c7fc-f30a6fb50562"
      },
      "source": [
        "#DataFrame\r\n",
        "df = {'covariavel': ['Grupo A', 'Grupo A', 'Grupo A', 'Grupo A', 'Grupo A', 'Grupo A', 'Grupo B', 'Grupo B', 'Grupo B', 'Grupo B'],\r\n",
        "         'Contratou': ['S', 'S', 'S', 'N', 'N', 'S', 'N', 'S', 'S','N']}\r\n",
        "dados=pd.DataFrame(df)\r\n",
        "dados"
      ],
      "execution_count": 172,
      "outputs": [
        {
          "output_type": "execute_result",
          "data": {
            "text/html": [
              "<div>\n",
              "<style scoped>\n",
              "    .dataframe tbody tr th:only-of-type {\n",
              "        vertical-align: middle;\n",
              "    }\n",
              "\n",
              "    .dataframe tbody tr th {\n",
              "        vertical-align: top;\n",
              "    }\n",
              "\n",
              "    .dataframe thead th {\n",
              "        text-align: right;\n",
              "    }\n",
              "</style>\n",
              "<table border=\"1\" class=\"dataframe\">\n",
              "  <thead>\n",
              "    <tr style=\"text-align: right;\">\n",
              "      <th></th>\n",
              "      <th>covariavel</th>\n",
              "      <th>Contratou</th>\n",
              "    </tr>\n",
              "  </thead>\n",
              "  <tbody>\n",
              "    <tr>\n",
              "      <th>0</th>\n",
              "      <td>Grupo A</td>\n",
              "      <td>S</td>\n",
              "    </tr>\n",
              "    <tr>\n",
              "      <th>1</th>\n",
              "      <td>Grupo A</td>\n",
              "      <td>S</td>\n",
              "    </tr>\n",
              "    <tr>\n",
              "      <th>2</th>\n",
              "      <td>Grupo A</td>\n",
              "      <td>S</td>\n",
              "    </tr>\n",
              "    <tr>\n",
              "      <th>3</th>\n",
              "      <td>Grupo A</td>\n",
              "      <td>N</td>\n",
              "    </tr>\n",
              "    <tr>\n",
              "      <th>4</th>\n",
              "      <td>Grupo A</td>\n",
              "      <td>N</td>\n",
              "    </tr>\n",
              "    <tr>\n",
              "      <th>5</th>\n",
              "      <td>Grupo A</td>\n",
              "      <td>S</td>\n",
              "    </tr>\n",
              "    <tr>\n",
              "      <th>6</th>\n",
              "      <td>Grupo B</td>\n",
              "      <td>N</td>\n",
              "    </tr>\n",
              "    <tr>\n",
              "      <th>7</th>\n",
              "      <td>Grupo B</td>\n",
              "      <td>S</td>\n",
              "    </tr>\n",
              "    <tr>\n",
              "      <th>8</th>\n",
              "      <td>Grupo B</td>\n",
              "      <td>S</td>\n",
              "    </tr>\n",
              "    <tr>\n",
              "      <th>9</th>\n",
              "      <td>Grupo B</td>\n",
              "      <td>N</td>\n",
              "    </tr>\n",
              "  </tbody>\n",
              "</table>\n",
              "</div>"
            ],
            "text/plain": [
              "  covariavel Contratou\n",
              "0    Grupo A         S\n",
              "1    Grupo A         S\n",
              "2    Grupo A         S\n",
              "3    Grupo A         N\n",
              "4    Grupo A         N\n",
              "5    Grupo A         S\n",
              "6    Grupo B         N\n",
              "7    Grupo B         S\n",
              "8    Grupo B         S\n",
              "9    Grupo B         N"
            ]
          },
          "metadata": {
            "tags": []
          },
          "execution_count": 172
        }
      ]
    },
    {
      "cell_type": "code",
      "metadata": {
        "id": "bQq2295V4MoK"
      },
      "source": [
        "#Function - esta funcão se adecua a qualquer tamanho de dataframe, assim como qualquer quantidade de covariáveis;\r\n",
        "def minha_funcao (a,b):\r\n",
        "  s= a.loc[(a['Contratou'] == 'S')]\r\n",
        "  n= a.loc[(a['Contratou'] == 'N')]\r\n",
        "\r\n",
        "  total = pd.DataFrame(a.covariavel.value_counts())\r\n",
        "  total = total.reset_index()\r\n",
        "  total = total.rename(columns={'index': 'covariavel', 'covariavel': 'total'})\r\n",
        "\r\n",
        "  if b == 's':\r\n",
        "    sim = pd.DataFrame(s.value_counts())\r\n",
        "    sim = sim.reset_index()\r\n",
        "    sim = sim.rename(columns={0:'n'})\r\n",
        "    sim = sim.drop(['Contratou'], axis=1)\r\n",
        "    sim = pd.merge(sim, total, on='covariavel')\r\n",
        "    sim.insert(loc=2, column= 'taxa_resposta', value= (sim.n / sim.total).round(decimals=2))\r\n",
        "    sim = sim.drop(['total'], axis=1)\r\n",
        "    return sim\r\n",
        "\r\n",
        "  else:\r\n",
        "    nao = pd.DataFrame(n.value_counts())\r\n",
        "    nao = nao.reset_index()\r\n",
        "    nao = nao.rename(columns={0:'n'})\r\n",
        "    nao = nao.drop(['Contratou'], axis=1)\r\n",
        "    nao = pd.merge(nao, total, on='covariavel')\r\n",
        "    nao.insert(loc=2, column= 'taxa_resposta', value= (nao.n / nao.total).round(decimals=2))\r\n",
        "    nao = nao.drop(['total'], axis=1)\r\n",
        "    return nao"
      ],
      "execution_count": 173,
      "outputs": []
    },
    {
      "cell_type": "code",
      "metadata": {
        "colab": {
          "base_uri": "https://localhost:8080/",
          "height": 111
        },
        "id": "ljBzSBsJaDZc",
        "outputId": "efa1058a-d8a9-4397-9353-0ca83b8f988a"
      },
      "source": [
        "#Results\r\n",
        "#Parâmetros --> a=dataframe , b= \"s\" ou \"n\" referente ao status do contrato;\r\n",
        "minha_funcao(dados,\"n\")"
      ],
      "execution_count": 174,
      "outputs": [
        {
          "output_type": "execute_result",
          "data": {
            "text/html": [
              "<div>\n",
              "<style scoped>\n",
              "    .dataframe tbody tr th:only-of-type {\n",
              "        vertical-align: middle;\n",
              "    }\n",
              "\n",
              "    .dataframe tbody tr th {\n",
              "        vertical-align: top;\n",
              "    }\n",
              "\n",
              "    .dataframe thead th {\n",
              "        text-align: right;\n",
              "    }\n",
              "</style>\n",
              "<table border=\"1\" class=\"dataframe\">\n",
              "  <thead>\n",
              "    <tr style=\"text-align: right;\">\n",
              "      <th></th>\n",
              "      <th>covariavel</th>\n",
              "      <th>n</th>\n",
              "      <th>taxa_resposta</th>\n",
              "    </tr>\n",
              "  </thead>\n",
              "  <tbody>\n",
              "    <tr>\n",
              "      <th>0</th>\n",
              "      <td>Grupo B</td>\n",
              "      <td>2</td>\n",
              "      <td>0.50</td>\n",
              "    </tr>\n",
              "    <tr>\n",
              "      <th>1</th>\n",
              "      <td>Grupo A</td>\n",
              "      <td>2</td>\n",
              "      <td>0.33</td>\n",
              "    </tr>\n",
              "  </tbody>\n",
              "</table>\n",
              "</div>"
            ],
            "text/plain": [
              "  covariavel  n  taxa_resposta\n",
              "0    Grupo B  2           0.50\n",
              "1    Grupo A  2           0.33"
            ]
          },
          "metadata": {
            "tags": []
          },
          "execution_count": 174
        }
      ]
    }
  ]
}